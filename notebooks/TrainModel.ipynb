{
 "cells": [
  {
   "cell_type": "code",
   "execution_count": 7,
   "metadata": {},
   "outputs": [
    {
     "name": "stderr",
     "output_type": "stream",
     "text": [
      "2023/12/27 17:00:36 INFO mlflow.tracking.fluent: Autologging successfully enabled for sklearn.\n"
     ]
    }
   ],
   "source": [
    "import mlflow\n",
    "import numpy as np\n",
    "from ucimlrepo import fetch_ucirepo\n",
    "from sklearn.pipeline import Pipeline\n",
    "from sklearn.model_selection import GridSearchCV, train_test_split\n",
    "from sklearn.preprocessing import MinMaxScaler\n",
    "from sklearn.linear_model import LogisticRegression\n",
    "from sklearn.metrics import f1_score\n",
    "\n",
    "iris = fetch_ucirepo(id=53)\n",
    "remote_server_uri = \"http://localhost:8081/\"\n",
    "mlflow.set_tracking_uri(remote_server_uri)\n",
    "mlflow.set_experiment(experiment_id=\"1\")\n",
    "mlflow.autolog()\n",
    "grid = [\n",
    "    {\n",
    "        \"clf__C\":np.logspace(-3,3,7),\n",
    "        \"clf__solver\":[\"liblinear\"],\n",
    "        \"clf__penalty\":[\"l1\",\"l2\"],\n",
    "        \"clf__max_iter\": [200]\n",
    "    },\n",
    "    {\n",
    "        \"clf__C\":np.logspace(-3,3,7),\n",
    "        \"clf__solver\":[\"lbfgs\"],\n",
    "        \"clf__penalty\":[\"l2\"],\n",
    "        \"clf__max_iter\": [200]\n",
    "    },\n",
    "    {\n",
    "        \"clf__C\":np.logspace(-3,3,7),\n",
    "        \"clf__solver\":[\"newton-cg\"],\n",
    "        \"clf__penalty\":[\"l2\"],\n",
    "        \"clf__max_iter\": [200]\n",
    "    }\n",
    "]\n",
    "\n",
    "logreg=LogisticRegression()\n",
    "scaler = MinMaxScaler()\n",
    "x_train, x_test, y_train, y_test = train_test_split(iris.data.features, iris.data.targets, test_size=0.2, random_state=3)"
   ]
  },
  {
   "cell_type": "code",
   "execution_count": 8,
   "metadata": {},
   "outputs": [
    {
     "name": "stderr",
     "output_type": "stream",
     "text": [
      "2023/12/27 17:00:36 INFO mlflow.utils.autologging_utils: Created MLflow autologging run with ID '96754e864cff4becac9ae6a8b05d5074', which will track hyperparameters, performance metrics, model artifacts, and lineage information for the current sklearn workflow\n"
     ]
    },
    {
     "name": "stderr",
     "output_type": "stream",
     "text": [
      "/home/giu/miniconda3/envs/iris-train/lib/python3.9/site-packages/sklearn/svm/_base.py:1250: ConvergenceWarning: Liblinear failed to converge, increase the number of iterations.\n",
      "  warnings.warn(\n",
      "2023/12/27 17:00:41 INFO mlflow.sklearn.utils: Logging the 5 best runs, 23 runs will be omitted.\n"
     ]
    },
    {
     "name": "stdout",
     "output_type": "stream",
     "text": [
      "tuned hpyerparameters :(best parameters)  {'clf__C': 100.0, 'clf__max_iter': 200, 'clf__penalty': 'l2', 'clf__solver': 'liblinear'}\n",
      "accuracy : 0.95\n"
     ]
    }
   ],
   "source": [
    "model = Pipeline(steps=[('scaler', scaler), ('clf', logreg)])\n",
    "logreg_cv=GridSearchCV(model, grid, cv=5)\n",
    "logreg_cv.fit(x_train.values, y_train.values.ravel())\n",
    "print(\"tuned hpyerparameters :(best parameters) \", logreg_cv.best_params_)\n",
    "print(\"accuracy :\", logreg_cv.best_score_)"
   ]
  },
  {
   "cell_type": "code",
   "execution_count": 4,
   "metadata": {},
   "outputs": [
    {
     "data": {
      "text/plain": [
       "1.0"
      ]
     },
     "execution_count": 4,
     "metadata": {},
     "output_type": "execute_result"
    }
   ],
   "source": [
    "y_predict = logreg_cv.predict(x_test.values)\n",
    "f1_score(y_test, y_predict, average=\"macro\")"
   ]
  }
 ],
 "metadata": {
  "kernelspec": {
   "display_name": "iris",
   "language": "python",
   "name": "python3"
  },
  "language_info": {
   "codemirror_mode": {
    "name": "ipython",
    "version": 3
   },
   "file_extension": ".py",
   "mimetype": "text/x-python",
   "name": "python",
   "nbconvert_exporter": "python",
   "pygments_lexer": "ipython3",
   "version": "3.9.18"
  }
 },
 "nbformat": 4,
 "nbformat_minor": 2
}
