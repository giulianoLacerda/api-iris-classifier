{
 "cells": [
  {
   "cell_type": "code",
   "execution_count": 7,
   "metadata": {},
   "outputs": [
    {
     "name": "stderr",
     "output_type": "stream",
     "text": [
      "2023/12/27 17:00:36 INFO mlflow.tracking.fluent: Autologging successfully enabled for sklearn.\n"
     ]
    }
   ],
   "source": [
    "import mlflow\n",
    "import numpy as np\n",
    "from ucimlrepo import fetch_ucirepo\n",
    "from sklearn.pipeline import Pipeline\n",
    "from sklearn.model_selection import GridSearchCV, train_test_split\n",
    "from sklearn.preprocessing import MinMaxScaler\n",
    "from sklearn.linear_model import LogisticRegression\n",
    "from sklearn.metrics import f1_score\n",
    "\n",
    "iris = fetch_ucirepo(id=53)\n",
    "remote_server_uri = \"http://localhost:8081/\"\n",
    "mlflow.set_tracking_uri(remote_server_uri)\n",
    "mlflow.set_experiment(experiment_id=\"1\")\n",
    "mlflow.autolog()\n",
    "grid = [\n",
    "    {\n",
    "        \"clf__C\":np.logspace(-3,3,7),\n",
    "        \"clf__solver\":[\"liblinear\"],\n",
    "        \"clf__penalty\":[\"l1\",\"l2\"],\n",
    "        \"clf__max_iter\": [200]\n",
    "    },\n",
    "    {\n",
    "        \"clf__C\":np.logspace(-3,3,7),\n",
    "        \"clf__solver\":[\"lbfgs\"],\n",
    "        \"clf__penalty\":[\"l2\"],\n",
    "        \"clf__max_iter\": [200]\n",
    "    },\n",
    "    {\n",
    "        \"clf__C\":np.logspace(-3,3,7),\n",
    "        \"clf__solver\":[\"newton-cg\"],\n",
    "        \"clf__penalty\":[\"l2\"],\n",
    "        \"clf__max_iter\": [200]\n",
    "    }\n",
    "]\n",
    "\n",
    "logreg=LogisticRegression()\n",
    "scaler = MinMaxScaler()\n",
    "x_train, x_test, y_train, y_test = train_test_split(iris.data.features, iris.data.targets, test_size=0.2, random_state=3)\n",
    "\n",
    "model = Pipeline(steps=[('scaler', scaler), ('clf', logreg)])\n",
    "logreg_cv=GridSearchCV(model, grid, cv=5)\n",
    "logreg_cv.fit(x_train.values, y_train.values.ravel())\n",
    "print(\"tuned hpyerparameters :(best parameters) \", logreg_cv.best_params_)\n",
    "print(\"accuracy :\", logreg_cv.best_score_)\n",
    "\n",
    "y_predict = logreg_cv.predict(x_test.values)\n",
    "f1_score(y_test, y_predict, average=\"macro\")"
   ]
  }
 ],
 "metadata": {
  "kernelspec": {
   "display_name": "iris",
   "language": "python",
   "name": "python3"
  },
  "language_info": {
   "codemirror_mode": {
    "name": "ipython",
    "version": 3
   },
   "file_extension": ".py",
   "mimetype": "text/x-python",
   "name": "python",
   "nbconvert_exporter": "python",
   "pygments_lexer": "ipython3",
   "version": "3.9.18"
  }
 },
 "nbformat": 4,
 "nbformat_minor": 2
}
